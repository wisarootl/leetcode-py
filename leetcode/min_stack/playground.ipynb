{
 "cells": [
  {
   "cell_type": "code",
   "execution_count": 1,
   "id": "imports",
   "metadata": {},
   "outputs": [],
   "source": [
    "from solution import MinStack"
   ]
  },
  {
   "cell_type": "code",
   "execution_count": 2,
   "id": "setup",
   "metadata": {},
   "outputs": [],
   "source": [
    "# Example test case\n",
    "operations = [\"MinStack\", \"push\", \"push\", \"push\", \"getMin\", \"pop\", \"top\", \"getMin\"]\n",
    "inputs = [[], [-2], [0], [-3], [], [], [], []]"
   ]
  },
  {
   "cell_type": "code",
   "execution_count": 3,
   "id": "execute",
   "metadata": {},
   "outputs": [
    {
     "data": {
      "text/plain": [
       "[None, None, None, None, -3, None, 0, -2]"
      ]
     },
     "execution_count": 3,
     "metadata": {},
     "output_type": "execute_result"
    }
   ],
   "source": [
    "stack = None\n",
    "results: list[int | None] = []\n",
    "for i, op in enumerate(operations):\n",
    "    if op == \"MinStack\":\n",
    "        stack = MinStack()\n",
    "        results.append(None)\n",
    "    elif op == \"push\" and stack is not None:\n",
    "        stack.push(inputs[i][0])\n",
    "        results.append(None)\n",
    "    elif op == \"pop\" and stack is not None:\n",
    "        stack.pop()\n",
    "        results.append(None)\n",
    "    elif op == \"top\" and stack is not None:\n",
    "        results.append(stack.top())\n",
    "    elif op == \"getMin\" and stack is not None:\n",
    "        results.append(stack.get_min())\n",
    "results"
   ]
  },
  {
   "cell_type": "code",
   "execution_count": 4,
   "id": "test",
   "metadata": {},
   "outputs": [],
   "source": [
    "expected = [None, None, None, None, -3, None, 0, -2]\n",
    "assert results == expected"
   ]
  }
 ],
 "metadata": {
  "kernelspec": {
   "display_name": "leetcode-py-py3.13",
   "language": "python",
   "name": "python3"
  },
  "language_info": {
   "codemirror_mode": {
    "name": "ipython",
    "version": 3
   },
   "file_extension": ".py",
   "mimetype": "text/x-python",
   "name": "python",
   "nbconvert_exporter": "python",
   "pygments_lexer": "ipython3",
   "version": "3.13.7"
  }
 },
 "nbformat": 4,
 "nbformat_minor": 5
}
