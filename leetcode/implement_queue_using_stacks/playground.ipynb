{
 "cells": [
  {
   "cell_type": "code",
   "execution_count": 2,
   "id": "imports",
   "metadata": {},
   "outputs": [],
   "source": [
    "from solution import MyQueue"
   ]
  },
  {
   "cell_type": "code",
   "execution_count": 3,
   "id": "setup",
   "metadata": {},
   "outputs": [],
   "source": [
    "# Example test case\n",
    "queue = MyQueue()\n",
    "queue.push(1)\n",
    "queue.push(2)"
   ]
  },
  {
   "cell_type": "code",
   "execution_count": 4,
   "id": "execute",
   "metadata": {},
   "outputs": [
    {
     "name": "stdout",
     "output_type": "stream",
     "text": [
      "peek: 1, pop: 1, empty: False\n"
     ]
    }
   ],
   "source": [
    "result_peek = queue.peek()\n",
    "result_pop = queue.pop()\n",
    "result_empty = queue.empty()\n",
    "print(f\"peek: {result_peek}, pop: {result_pop}, empty: {result_empty}\")"
   ]
  },
  {
   "cell_type": "code",
   "execution_count": 5,
   "id": "test",
   "metadata": {},
   "outputs": [],
   "source": [
    "assert result_peek == 1\n",
    "assert result_pop == 1\n",
    "assert not result_empty"
   ]
  }
 ],
 "metadata": {
  "kernelspec": {
   "display_name": "leetcode-py-py3.13",
   "language": "python",
   "name": "python3"
  },
  "language_info": {
   "codemirror_mode": {
    "name": "ipython",
    "version": 3
   },
   "file_extension": ".py",
   "mimetype": "text/x-python",
   "name": "python",
   "nbconvert_exporter": "python",
   "pygments_lexer": "ipython3",
   "version": "3.13.7"
  }
 },
 "nbformat": 4,
 "nbformat_minor": 5
}
