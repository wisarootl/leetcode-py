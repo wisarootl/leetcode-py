{
 "cells": [
  {
   "cell_type": "code",
   "execution_count": null,
   "id": "imports",
   "metadata": {},
   "outputs": [],
   "source": [
    "from helpers import assert_lowest_common_ancestor, run_lowest_common_ancestor\n",
    "from solution import Solution\n",
    "\n",
    "from leetcode_py import TreeNode"
   ]
  },
  {
   "cell_type": "code",
   "execution_count": null,
   "id": "setup",
   "metadata": {},
   "outputs": [],
   "source": [
    "# Example test case\n",
    "root_list = [6, 2, 8, 0, 4, 7, 9, None, None, 3, 5]\n",
    "p_val = 2\n",
    "q_val = 8\n",
    "expected_val = 6"
   ]
  },
  {
   "cell_type": "code",
   "execution_count": null,
   "id": "run",
   "metadata": {},
   "outputs": [],
   "source": [
    "result = run_lowest_common_ancestor(Solution, root_list, p_val, q_val)\n",
    "result.val if result else None"
   ]
  },
  {
   "cell_type": "code",
   "execution_count": null,
   "id": "assert",
   "metadata": {},
   "outputs": [],
   "source": [
    "assert_lowest_common_ancestor(result, expected_val)"
   ]
  }
 ],
 "metadata": {
  "kernelspec": {
   "display_name": "leetcode-py-py3.13",
   "language": "python",
   "name": "python3"
  },
  "language_info": {
   "codemirror_mode": {
    "name": "ipython",
    "version": 3
   },
   "file_extension": ".py",
   "mimetype": "text/x-python",
   "name": "python",
   "nbconvert_exporter": "python3",
   "version": "3.13.7"
  }
 },
 "nbformat": 4,
 "nbformat_minor": 5
}
