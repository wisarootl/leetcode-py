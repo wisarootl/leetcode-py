{
 "cells": [
  {
   "cell_type": "code",
   "execution_count": 1,
   "id": "imports",
   "metadata": {},
   "outputs": [],
   "source": [
    "import bisect\n",
    "\n",
    "from solution import Solution"
   ]
  },
  {
   "cell_type": "code",
   "execution_count": 2,
   "id": "setup",
   "metadata": {},
   "outputs": [],
   "source": [
    "# Example test case\n",
    "start_time = [1, 2, 3, 3]\n",
    "end_time = [3, 4, 5, 6]\n",
    "profit = [50, 10, 40, 70]\n",
    "expected = 120"
   ]
  },
  {
   "cell_type": "code",
   "execution_count": 3,
   "id": "execute",
   "metadata": {},
   "outputs": [
    {
     "data": {
      "text/plain": [
       "120"
      ]
     },
     "execution_count": 3,
     "metadata": {},
     "output_type": "execute_result"
    }
   ],
   "source": [
    "result = Solution().job_scheduling(start_time, end_time, profit)\n",
    "result"
   ]
  },
  {
   "cell_type": "code",
   "execution_count": 4,
   "id": "test",
   "metadata": {},
   "outputs": [],
   "source": [
    "assert result == expected"
   ]
  },
  {
   "cell_type": "markdown",
   "id": "dd4ebe51",
   "metadata": {},
   "source": [
    "# Bisect"
   ]
  },
  {
   "cell_type": "code",
   "execution_count": 5,
   "id": "3596ff83",
   "metadata": {},
   "outputs": [
    {
     "name": "stdout",
     "output_type": "stream",
     "text": [
      "Original array: [1, 3, 3, 5, 7]\n",
      "Indices:        [0, 1, 2, 3, 4]\n",
      "\n"
     ]
    }
   ],
   "source": [
    "# Demo array\n",
    "arr = [1, 3, 3, 5, 7]\n",
    "print(f\"Original array: {arr}\")\n",
    "print(f\"Indices:        {list(range(len(arr)))}\")\n",
    "print()"
   ]
  },
  {
   "cell_type": "code",
   "execution_count": 6,
   "id": "508a52e9",
   "metadata": {},
   "outputs": [
    {
     "name": "stdout",
     "output_type": "stream",
     "text": [
      "=== bisect_left vs bisect_right ===\n",
      "x=0: left=0, right=0\n",
      "x=3: left=1, right=3\n",
      "x=4: left=3, right=3\n",
      "x=8: left=5, right=5\n",
      "\n"
     ]
    }
   ],
   "source": [
    "# bisect_left vs bisect_right\n",
    "print(\"=== bisect_left vs bisect_right ===\")\n",
    "for x in [0, 3, 4, 8]:\n",
    "    left = bisect.bisect_left(arr, x)\n",
    "    right = bisect.bisect_right(arr, x)\n",
    "    print(f\"x={x}: left={left}, right={right}\")\n",
    "print()"
   ]
  },
  {
   "cell_type": "code",
   "execution_count": 7,
   "id": "b5dfa28a",
   "metadata": {},
   "outputs": [
    {
     "name": "stdout",
     "output_type": "stream",
     "text": [
      "=== insort demonstration ===\n",
      "Before: [1, 3, 5]\n",
      "After insort(4): [1, 3, 4, 5]\n",
      "After insort(3): [1, 3, 3, 4, 5]\n",
      "\n"
     ]
    }
   ],
   "source": [
    "# insort demonstration\n",
    "print(\"=== insort demonstration ===\")\n",
    "test_arr = [1, 3, 5]\n",
    "print(f\"Before: {test_arr}\")\n",
    "bisect.insort(test_arr, 4)\n",
    "print(f\"After insort(4): {test_arr}\")\n",
    "bisect.insort(test_arr, 3)\n",
    "print(f\"After insort(3): {test_arr}\")\n",
    "print()"
   ]
  }
 ],
 "metadata": {
  "kernelspec": {
   "display_name": "leetcode-py-py3.13",
   "language": "python",
   "name": "python3"
  },
  "language_info": {
   "codemirror_mode": {
    "name": "ipython",
    "version": 3
   },
   "file_extension": ".py",
   "mimetype": "text/x-python",
   "name": "python",
   "nbconvert_exporter": "python",
   "pygments_lexer": "ipython3",
   "version": "3.13.7"
  }
 },
 "nbformat": 4,
 "nbformat_minor": 5
}
