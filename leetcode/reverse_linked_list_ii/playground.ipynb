{
 "cells": [
  {
   "cell_type": "code",
   "execution_count": null,
   "id": "imports",
   "metadata": {},
   "outputs": [],
   "source": [
    "from solution import Solution\n",
    "\n",
    "from leetcode_py import ListNode"
   ]
  },
  {
   "cell_type": "code",
   "execution_count": null,
   "id": "setup",
   "metadata": {},
   "outputs": [],
   "source": [
    "# Example test case\n",
    "head_list = [1, 2, 3, 4, 5]\n",
    "head = ListNode[int].from_list(head_list)\n",
    "left, right = 2, 4\n",
    "expected = ListNode[int].from_list([1, 4, 3, 2, 5])"
   ]
  },
  {
   "cell_type": "code",
   "execution_count": null,
   "id": "execute",
   "metadata": {},
   "outputs": [],
   "source": [
    "result = Solution().reverse_between(head, left, right)\n",
    "result"
   ]
  },
  {
   "cell_type": "code",
   "execution_count": null,
   "id": "test",
   "metadata": {},
   "outputs": [],
   "source": [
    "assert result == expected"
   ]
  }
 ],
 "metadata": {
  "kernelspec": {
   "display_name": "leetcode-py-py3.13",
   "language": "python",
   "name": "python3"
  },
  "language_info": {
   "codemirror_mode": {
    "name": "ipython",
    "version": 3
   },
   "file_extension": ".py",
   "mimetype": "text/x-python",
   "name": "python",
   "nbconvert_exporter": "python3",
   "pygments_lexer": "ipython3",
   "version": "3.13.7"
  }
 },
 "nbformat": 4,
 "nbformat_minor": 5
}
