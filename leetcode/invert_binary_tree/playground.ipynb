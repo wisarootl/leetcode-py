{
 "cells": [
  {
   "cell_type": "code",
   "execution_count": null,
   "id": "fc4d8c0c",
   "metadata": {},
   "outputs": [],
   "source": [
    "from solution import Solution\n",
    "\n",
    "from leetcode_py.tree_node import TreeNode"
   ]
  },
  {
   "cell_type": "code",
   "execution_count": null,
   "id": "ecb1908a",
   "metadata": {},
   "outputs": [],
   "source": [
    "# Example test case\n",
    "root = TreeNode.from_list([4, 2, 7, 1, 3, 6, 9])"
   ]
  },
  {
   "cell_type": "code",
   "execution_count": null,
   "id": "ccd8921e",
   "metadata": {},
   "outputs": [],
   "source": [
    "expected = [4, 7, 2, 9, 6, 3, 1]"
   ]
  },
  {
   "cell_type": "code",
   "execution_count": null,
   "id": "29433b11",
   "metadata": {},
   "outputs": [],
   "source": [
    "result = Solution().invert_tree(root)\n",
    "result"
   ]
  },
  {
   "cell_type": "code",
   "execution_count": null,
   "id": "3a4e7961",
   "metadata": {},
   "outputs": [],
   "source": [
    "assert result == expected"
   ]
  },
  {
   "cell_type": "code",
   "execution_count": null,
   "id": "8b250930",
   "metadata": {},
   "outputs": [],
   "source": []
  }
 ],
 "metadata": {
  "kernelspec": {
   "display_name": "leetcode-py-py3.13",
   "language": "python",
   "name": "python3"
  },
  "language_info": {
   "codemirror_mode": {
    "name": "ipython",
    "version": 3
   },
   "file_extension": ".py",
   "mimetype": "text/x-python",
   "name": "python",
   "nbconvert_exporter": "python",
   "pygments_lexer": "ipython3",
   "version": "3.13.7"
  }
 },
 "nbformat": 4,
 "nbformat_minor": 5
}
