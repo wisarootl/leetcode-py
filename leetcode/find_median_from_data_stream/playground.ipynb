{
 "cells": [
  {
   "cell_type": "code",
   "execution_count": null,
   "id": "imports",
   "metadata": {},
   "outputs": [],
   "source": [
    "from solution import MedianFinder"
   ]
  },
  {
   "cell_type": "code",
   "execution_count": null,
   "id": "setup",
   "metadata": {},
   "outputs": [],
   "source": [
    "# Example test case\n",
    "operations = [\"MedianFinder\", \"addNum\", \"addNum\", \"findMedian\", \"addNum\", \"findMedian\"]\n",
    "inputs = [[], [1], [2], [], [3], []]\n",
    "expected = [None, None, None, 1.5, None, 2.0]"
   ]
  },
  {
   "cell_type": "code",
   "execution_count": null,
   "id": "execute",
   "metadata": {},
   "outputs": [],
   "source": [
    "mf = None\n",
    "results: list[float | None] = []\n",
    "for i, op in enumerate(operations):\n",
    "    if op == \"MedianFinder\":\n",
    "        mf = MedianFinder()\n",
    "        results.append(None)\n",
    "    elif op == \"addNum\" and mf is not None:\n",
    "        mf.add_num(inputs[i][0])\n",
    "        results.append(None)\n",
    "    elif op == \"findMedian\" and mf is not None:\n",
    "        results.append(mf.find_median())\n",
    "results"
   ]
  },
  {
   "cell_type": "code",
   "execution_count": null,
   "id": "test",
   "metadata": {},
   "outputs": [],
   "source": [
    "assert results == expected"
   ]
  }
 ],
 "metadata": {
  "kernelspec": {
   "display_name": "leetcode-py-py3.13",
   "language": "python",
   "name": "python3"
  },
  "language_info": {
   "codemirror_mode": {
    "name": "ipython",
    "version": 3
   },
   "file_extension": ".py",
   "mimetype": "text/x-python",
   "name": "python",
   "nbconvert_exporter": "python3",
   "pygments_lexer": "ipython3",
   "version": "3.13.7"
  }
 },
 "nbformat": 4,
 "nbformat_minor": 5
}
