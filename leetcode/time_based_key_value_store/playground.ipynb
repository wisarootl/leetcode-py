{
 "cells": [
  {
   "cell_type": "code",
   "execution_count": 1,
   "id": "imports",
   "metadata": {},
   "outputs": [],
   "source": [
    "from solution import TimeMap"
   ]
  },
  {
   "cell_type": "code",
   "execution_count": 2,
   "id": "setup",
   "metadata": {},
   "outputs": [],
   "source": [
    "# Example test case\n",
    "time_map = TimeMap()\n",
    "time_map.set(\"foo\", \"bar\", 1)\n",
    "result1 = time_map.get(\"foo\", 1)\n",
    "result2 = time_map.get(\"foo\", 3)\n",
    "time_map.set(\"foo\", \"bar2\", 4)\n",
    "result3 = time_map.get(\"foo\", 4)\n",
    "result4 = time_map.get(\"foo\", 5)"
   ]
  },
  {
   "cell_type": "code",
   "execution_count": 3,
   "id": "execute",
   "metadata": {},
   "outputs": [
    {
     "name": "stdout",
     "output_type": "stream",
     "text": [
      "get(foo, 1): bar\n",
      "get(foo, 3): bar\n",
      "get(foo, 4): bar2\n",
      "get(foo, 5): bar2\n"
     ]
    }
   ],
   "source": [
    "print(f\"get(foo, 1): {result1}\")\n",
    "print(f\"get(foo, 3): {result2}\")\n",
    "print(f\"get(foo, 4): {result3}\")\n",
    "print(f\"get(foo, 5): {result4}\")"
   ]
  },
  {
   "cell_type": "code",
   "execution_count": 4,
   "id": "test",
   "metadata": {},
   "outputs": [],
   "source": [
    "assert result1 == \"bar\"\n",
    "assert result2 == \"bar\"\n",
    "assert result3 == \"bar2\"\n",
    "assert result4 == \"bar2\""
   ]
  }
 ],
 "metadata": {
  "kernelspec": {
   "display_name": "leetcode-py-py3.13",
   "language": "python",
   "name": "python3"
  },
  "language_info": {
   "codemirror_mode": {
    "name": "ipython",
    "version": 3
   },
   "file_extension": ".py",
   "mimetype": "text/x-python",
   "name": "python",
   "nbconvert_exporter": "python",
   "pygments_lexer": "ipython3",
   "version": "3.13.7"
  }
 },
 "nbformat": 4,
 "nbformat_minor": 5
}
