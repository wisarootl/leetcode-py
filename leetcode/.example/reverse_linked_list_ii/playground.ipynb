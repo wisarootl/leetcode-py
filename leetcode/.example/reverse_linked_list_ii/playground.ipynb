{
 "cells": [
  {
   "cell_type": "code",
   "execution_count": 1,
   "id": "fc4d8c0c",
   "metadata": {},
   "outputs": [],
   "source": [
    "from solution import Solution\n",
    "\n",
    "from leetcode_py.list_node import ListNode"
   ]
  },
  {
   "cell_type": "code",
   "execution_count": 2,
   "id": "ecb1908a",
   "metadata": {},
   "outputs": [],
   "source": [
    "# Example test case\n",
    "head = ListNode.from_list([1, 2, 3, 4, 5])\n",
    "left = 2\n",
    "right = 4"
   ]
  },
  {
   "cell_type": "code",
   "execution_count": 3,
   "id": "ccd8921e",
   "metadata": {},
   "outputs": [],
   "source": [
    "expected = ListNode.from_list([1, 4, 3, 2, 5])"
   ]
  },
  {
   "cell_type": "code",
   "execution_count": 4,
   "id": "29433b11",
   "metadata": {},
   "outputs": [
    {
     "data": {
      "text/html": [
       "1 -> 4 -> 3 -> 2 -> 5"
      ],
      "text/plain": [
       "ListNode([1, 4, 3, 2, 5])"
      ]
     },
     "execution_count": 4,
     "metadata": {},
     "output_type": "execute_result"
    }
   ],
   "source": [
    "result = Solution().reverse_between(head, left, right)\n",
    "result"
   ]
  },
  {
   "cell_type": "code",
   "execution_count": 5,
   "id": "3a4e7961",
   "metadata": {},
   "outputs": [],
   "source": [
    "assert result == expected"
   ]
  }
 ],
 "metadata": {
  "kernelspec": {
   "display_name": "leetcode-py-py3.13",
   "language": "python",
   "name": "python3"
  },
  "language_info": {
   "codemirror_mode": {
    "name": "ipython",
    "version": 3
   },
   "file_extension": ".py",
   "mimetype": "text/x-python",
   "name": "python",
   "nbconvert_exporter": "python",
   "pygments_lexer": "ipython3",
   "version": "3.13.7"
  }
 },
 "nbformat": 4,
 "nbformat_minor": 5
}
