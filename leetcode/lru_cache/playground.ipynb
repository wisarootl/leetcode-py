{
 "cells": [
  {
   "cell_type": "code",
   "execution_count": null,
   "id": "imports",
   "metadata": {},
   "outputs": [],
   "source": [
    "from solution import LRUCache"
   ]
  },
  {
   "cell_type": "code",
   "execution_count": null,
   "id": "setup",
   "metadata": {},
   "outputs": [],
   "source": [
    "# Example test case\n",
    "operations = [\"LRUCache\", \"put\", \"put\", \"get\", \"put\", \"get\", \"put\", \"get\", \"get\", \"get\"]\n",
    "inputs = [[2], [1, 1], [2, 2], [1], [3, 3], [2], [4, 4], [1], [3], [4]]\n",
    "expected = [None, None, None, 1, None, -1, None, -1, 3, 4]"
   ]
  },
  {
   "cell_type": "code",
   "execution_count": null,
   "id": "execute",
   "metadata": {},
   "outputs": [],
   "source": [
    "cache = None\n",
    "results: list[int | None] = []\n",
    "for i, op in enumerate(operations):\n",
    "    if op == \"LRUCache\":\n",
    "        cache = LRUCache(inputs[i][0])\n",
    "        results.append(None)\n",
    "    elif op == \"get\" and cache is not None:\n",
    "        results.append(cache.get(inputs[i][0]))\n",
    "    elif op == \"put\" and cache is not None:\n",
    "        cache.put(inputs[i][0], inputs[i][1])\n",
    "        results.append(None)\n",
    "results"
   ]
  },
  {
   "cell_type": "code",
   "execution_count": null,
   "id": "test",
   "metadata": {},
   "outputs": [],
   "source": [
    "assert results == expected"
   ]
  }
 ],
 "metadata": {
  "kernelspec": {
   "display_name": "leetcode-py-py3.13",
   "language": "python",
   "name": "python3"
  },
  "language_info": {
   "codemirror_mode": {
    "name": "ipython",
    "version": 3
   },
   "file_extension": ".py",
   "mimetype": "text/x-python",
   "name": "python",
   "nbconvert_exporter": "python3",
   "pygments_lexer": "ipython3",
   "version": "3.13.7"
  }
 },
 "nbformat": 4,
 "nbformat_minor": 5
}
