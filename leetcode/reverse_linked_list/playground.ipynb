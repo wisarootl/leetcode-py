{
 "cells": [
  {
   "cell_type": "code",
   "execution_count": 1,
   "id": "imports",
   "metadata": {},
   "outputs": [],
   "source": [
    "from solution import Solution\n",
    "\n",
    "from leetcode_py import ListNode"
   ]
  },
  {
   "cell_type": "code",
   "execution_count": 2,
   "id": "setup",
   "metadata": {},
   "outputs": [
    {
     "name": "stdout",
     "output_type": "stream",
     "text": [
      "Original: [1, 2, 3, 4, 5]\n",
      "Expected: [5, 4, 3, 2, 1]\n"
     ]
    }
   ],
   "source": [
    "# Example test case: reverse [1,2,3,4,5] to [5,4,3,2,1]\n",
    "head_list = [1, 2, 3, 4, 5]\n",
    "expected_list = [5, 4, 3, 2, 1]\n",
    "\n",
    "# Convert lists to linked lists\n",
    "head = ListNode.from_list(head_list)\n",
    "expected = ListNode.from_list(expected_list)\n",
    "print(f\"Original: {head}\")\n",
    "print(f\"Expected: {expected}\")"
   ]
  },
  {
   "cell_type": "code",
   "execution_count": null,
   "id": "execute",
   "metadata": {},
   "outputs": [
    {
     "name": "stdout",
     "output_type": "stream",
     "text": [
      "Result: [5, 4, 3, 2, 1]\n"
     ]
    },
    {
     "data": {
      "text/plain": [
       "[5, 4, 3, 2, 1]"
      ]
     },
     "execution_count": 3,
     "metadata": {},
     "output_type": "execute_result"
    }
   ],
   "source": [
    "# Reverse the linked list: 1->2->3->4->5 becomes 5->4->3->2->1\n",
    "result = Solution().reverse_list(head)\n",
    "print(f\"Result: {result}\")\n",
    "result"
   ]
  },
  {
   "cell_type": "code",
   "execution_count": 4,
   "id": "test",
   "metadata": {},
   "outputs": [
    {
     "name": "stdout",
     "output_type": "stream",
     "text": [
      "✅ Test passed! Linked list successfully reversed.\n"
     ]
    }
   ],
   "source": [
    "# Verify the result matches expected output\n",
    "assert result == expected"
   ]
  }
 ],
 "metadata": {
  "kernelspec": {
   "display_name": "leetcode-py-py3.13",
   "language": "python",
   "name": "python3"
  },
  "language_info": {
   "codemirror_mode": {
    "name": "ipython",
    "version": 3
   },
   "file_extension": ".py",
   "mimetype": "text/x-python",
   "name": "python",
   "nbconvert_exporter": "python",
   "pygments_lexer": "ipython3",
   "version": "3.13.7"
  }
 },
 "nbformat": 4,
 "nbformat_minor": 5
}
